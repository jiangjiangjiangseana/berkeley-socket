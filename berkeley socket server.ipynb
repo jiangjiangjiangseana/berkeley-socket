{
 "cells": [
  {
   "cell_type": "code",
   "execution_count": 1,
   "metadata": {},
   "outputs": [],
   "source": [
    "import socket\n",
    "import struct\n",
    "import threading"
   ]
  },
  {
   "cell_type": "code",
   "execution_count": 2,
   "metadata": {},
   "outputs": [],
   "source": [
    "#socket\n",
    "\n",
    "s = socket.socket(socket.AF_INET,socket.SOCK_STREAM)"
   ]
  },
  {
   "cell_type": "code",
   "execution_count": 4,
   "metadata": {},
   "outputs": [],
   "source": [
    "#bind\n",
    "\n",
    "pars = (\"127.0.0.1\", 8889)\n",
    "s.bind(pars)"
   ]
  },
  {
   "cell_type": "code",
   "execution_count": 5,
   "metadata": {},
   "outputs": [],
   "source": [
    "#listen\n",
    "\n",
    "s.listen(5)"
   ]
  },
  {
   "cell_type": "code",
   "execution_count": 6,
   "metadata": {},
   "outputs": [],
   "source": [
    "def serveClient(clientsocket, address):\n",
    "    while True:\n",
    "        reqdata = clientsocket.recv(1024)\n",
    "\n",
    "#reply message\n",
    "        if reqdata:\n",
    "            reqcontent = struct.unpack(\"!BBHHHI\",reqdata)\n",
    "            print(\"request from client\",reqcontent)\n",
    "    \n",
    "            reqcontent = list(reqcontent)\n",
    "            tp = 0\n",
    "            replydata = struct.pack(\"!BBHHHI\",tp,reqcontent[1],reqcontent[2],reqcontent[3],reqcontent[4],reqcontent[5])\n",
    "    \n",
    "    \n",
    "            clientsocket.send(replydata)\n",
    "            s.close()\n",
    "            break\n"
   ]
  },
  {
   "cell_type": "code",
   "execution_count": 7,
   "metadata": {},
   "outputs": [],
   "source": [
    "(clientsocket ,address) = s.accept()\n",
    "threading.Thread(target = serveClient, args = (clientsocket, address)).start()"
   ]
  }
 ],
 "metadata": {
  "kernelspec": {
   "display_name": "Python 3",
   "language": "python",
   "name": "python3"
  },
  "language_info": {
   "codemirror_mode": {
    "name": "ipython",
    "version": 3
   },
   "file_extension": ".py",
   "mimetype": "text/x-python",
   "name": "python",
   "nbconvert_exporter": "python",
   "pygments_lexer": "ipython3",
   "version": "3.7.2"
  }
 },
 "nbformat": 4,
 "nbformat_minor": 2
}
